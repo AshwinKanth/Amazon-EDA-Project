{
  "nbformat": 4,
  "nbformat_minor": 0,
  "metadata": {
    "colab": {
      "private_outputs": true,
      "provenance": [],
      "collapsed_sections": [
        "vncDsAP0Gaoa",
        "FJNUwmbgGyua",
        "yQaldy8SH6Dl",
        "mDgbUHAGgjLW",
        "7hBIi_osiCS2",
        "8G2x9gOozGDZ",
        "gCX9965dhzqZ",
        "gIfDvo9L0UH2"
      ]
    },
    "kernelspec": {
      "name": "python3",
      "display_name": "Python 3"
    },
    "language_info": {
      "name": "python"
    }
  },
  "cells": [
    {
      "cell_type": "markdown",
      "source": [
        "# **Project Name**    - Amazon Prime TV Shows and Movies EDA\n",
        "\n"
      ],
      "metadata": {
        "id": "vncDsAP0Gaoa"
      }
    },
    {
      "cell_type": "markdown",
      "source": [
        "##### **Project Type**    - EDA\n",
        "##### **Contribution**    - Individual\n",
        "##### **Team Member 1 -** Ashwin kanth Marapally\n"
      ],
      "metadata": {
        "id": "beRrZCGUAJYm"
      }
    },
    {
      "cell_type": "markdown",
      "source": [
        "# **Project Summary -**"
      ],
      "metadata": {
        "id": "FJNUwmbgGyua"
      }
    },
    {
      "cell_type": "markdown",
      "source": [
        "Amazon Prime Video, one of the world’s leading OTT streaming platforms, is continually expanding its content library to cater to a global audience. To maintain a competitive edge in the streaming industry, it is essential to understand content diversity, regional availability, audience engagement, and platform trends. This analysis aims to uncover insights about the types of content offered, regional preferences, user ratings, and overall content evolution."
      ],
      "metadata": {
        "id": "F6v_1wHtG2nS"
      }
    },
    {
      "cell_type": "markdown",
      "source": [
        "# **GitHub Link -**"
      ],
      "metadata": {
        "id": "w6K7xa23Elo4"
      }
    },
    {
      "cell_type": "markdown",
      "source": [
        "https://github.com/AshwinKanth/Amazon-EDA-Project.git"
      ],
      "metadata": {
        "id": "h1o69JH3Eqqn"
      }
    },
    {
      "cell_type": "markdown",
      "source": [
        "# **Problem Statement**\n"
      ],
      "metadata": {
        "id": "yQaldy8SH6Dl"
      }
    },
    {
      "cell_type": "markdown",
      "source": [
        "#### Analyze all shows and movies available on Amazon Prime Video to uncover:\n",
        "\n",
        "* Content Diversity: What genres and categories dominate the platform?\n",
        "\n",
        "* Regional Availability: How does content distribution vary across different regions?\n",
        "\n",
        "* Trends Over Time: How has Amazon Prime's content library evolved?\n",
        "\n",
        "* IMDb Ratings & Popularity: What are the highest-rated or most popular shows on the platform?\n"
      ],
      "metadata": {
        "id": "DpeJGUA3kjGy"
      }
    },
    {
      "cell_type": "markdown",
      "source": [
        "#### **Define Your Business Objective?**"
      ],
      "metadata": {
        "id": "PH-0ReGfmX4f"
      }
    },
    {
      "cell_type": "markdown",
      "source": [
        "##### **The objective of this project is to perform exploratory data analysis (EDA) on Amazon Prime Video's dataset to uncover:**\n",
        "\n",
        "* Dominant genres and content types.\n",
        "\n",
        "* Regional distribution of content.\n",
        "\n",
        "* Temporal trends in content production and quality.\n",
        "\n",
        "* Patterns in audience ratings and popularity metrics.\n",
        "These insights will help content strategists, marketers, and business leaders to make data-driven decisions about content acquisition, production investment, and user engagement optimization."
      ],
      "metadata": {
        "id": "PhDvGCAqmjP1"
      }
    },
    {
      "cell_type": "markdown",
      "source": [
        "# **General Guidelines** : -  "
      ],
      "metadata": {
        "id": "mDgbUHAGgjLW"
      }
    },
    {
      "cell_type": "markdown",
      "source": [
        "1.   Well-structured, formatted, and commented code is required.\n",
        "2.   Exception Handling, Production Grade Code & Deployment Ready Code will be a plus. Those students will be awarded some additional credits.\n",
        "     \n",
        "     The additional credits will have advantages over other students during Star Student selection.\n",
        "       \n",
        "             [ Note: - Deployment Ready Code is defined as, the whole .ipynb notebook should be executable in one go\n",
        "                       without a single error logged. ]\n",
        "\n",
        "3.   Each and every logic should have proper comments.\n",
        "4. You may add as many number of charts you want. Make Sure for each and every chart the following format should be answered.\n",
        "        \n",
        "\n",
        "```\n",
        "# Chart visualization code\n",
        "```\n",
        "            \n",
        "\n",
        "*   Why did you pick the specific chart?\n",
        "*   What is/are the insight(s) found from the chart?\n",
        "* Will the gained insights help creating a positive business impact?\n",
        "Are there any insights that lead to negative growth? Justify with specific reason.\n",
        "\n",
        "5. You have to create at least 20 logical & meaningful charts having important insights.\n",
        "\n",
        "\n",
        "[ Hints : - Do the Vizualization in  a structured way while following \"UBM\" Rule.\n",
        "\n",
        "U - Univariate Analysis,\n",
        "\n",
        "B - Bivariate Analysis (Numerical - Categorical, Numerical - Numerical, Categorical - Categorical)\n",
        "\n",
        "M - Multivariate Analysis\n",
        " ]\n",
        "\n",
        "\n",
        "\n"
      ],
      "metadata": {
        "id": "ZrxVaUj-hHfC"
      }
    },
    {
      "cell_type": "markdown",
      "source": [
        "# ***Let's Begin !***"
      ],
      "metadata": {
        "id": "O_i_v8NEhb9l"
      }
    },
    {
      "cell_type": "markdown",
      "source": [
        "## ***1. Know Your Data***"
      ],
      "metadata": {
        "id": "HhfV-JJviCcP"
      }
    },
    {
      "cell_type": "markdown",
      "source": [
        "### Import Libraries"
      ],
      "metadata": {
        "id": "Y3lxredqlCYt"
      }
    },
    {
      "cell_type": "code",
      "source": [
        "# Import Libraries\n",
        "\n",
        "import pandas as pd\n",
        "import numpy as np\n",
        "import matplotlib.pyplot as plt\n",
        "import seaborn as sns\n",
        "import plotly.express as px"
      ],
      "metadata": {
        "id": "M8Vqi-pPk-HR"
      },
      "execution_count": null,
      "outputs": []
    },
    {
      "cell_type": "markdown",
      "source": [
        "### Dataset Loading"
      ],
      "metadata": {
        "id": "3RnN4peoiCZX"
      }
    },
    {
      "cell_type": "code",
      "source": [
        "# Load Dataset\n",
        "\n",
        "titles_data = pd.read_csv(\"/content/titles.csv\")\n",
        "credits_data = pd.read_csv(\"/content/credits.csv\")"
      ],
      "metadata": {
        "id": "4CkvbW_SlZ_R"
      },
      "execution_count": null,
      "outputs": []
    },
    {
      "cell_type": "markdown",
      "source": [
        "### Dataset First View"
      ],
      "metadata": {
        "id": "x71ZqKXriCWQ"
      }
    },
    {
      "cell_type": "code",
      "source": [
        "# Dataset First Look\n",
        "\n",
        "titles_data.head()"
      ],
      "metadata": {
        "id": "LWNFOSvLl09H"
      },
      "execution_count": null,
      "outputs": []
    },
    {
      "cell_type": "code",
      "source": [
        "# Dataset First Look\n",
        "credits_data.head()"
      ],
      "metadata": {
        "id": "BfcHLVR27hxu"
      },
      "execution_count": null,
      "outputs": []
    },
    {
      "cell_type": "markdown",
      "source": [
        "### Dataset Rows & Columns count"
      ],
      "metadata": {
        "id": "7hBIi_osiCS2"
      }
    },
    {
      "cell_type": "code",
      "source": [
        "# Dataset Rows & Columns count\n",
        "\n",
        "print(\"Titles Data Rows and columns\")\n",
        "print(\"Rows :\" , titles_data.shape[0])\n",
        "print(\"Columns :\" , titles_data.shape[1])\n",
        "print(\"\")\n",
        "\n",
        "print(\"Credits Data Rows and columns\")\n",
        "print(\"Rows : \" , credits_data.shape[0])\n",
        "print(\"Columns : \" , credits_data.shape[1])"
      ],
      "metadata": {
        "id": "Kllu7SJgmLij"
      },
      "execution_count": null,
      "outputs": []
    },
    {
      "cell_type": "markdown",
      "source": [
        "### Dataset Information"
      ],
      "metadata": {
        "id": "JlHwYmJAmNHm"
      }
    },
    {
      "cell_type": "code",
      "source": [
        "# Titles Dataset Info\n",
        "\n",
        "titles_data.info()"
      ],
      "metadata": {
        "id": "e9hRXRi6meOf"
      },
      "execution_count": null,
      "outputs": []
    },
    {
      "cell_type": "code",
      "source": [
        "# Credits Dataset Info\n",
        "\n",
        "credits_data.info()"
      ],
      "metadata": {
        "id": "AIrfmz57_cvf"
      },
      "execution_count": null,
      "outputs": []
    },
    {
      "cell_type": "markdown",
      "source": [
        "#### Duplicate Values"
      ],
      "metadata": {
        "id": "35m5QtbWiB9F"
      }
    },
    {
      "cell_type": "code",
      "source": [
        "# Titles Dataset Duplicate Value Count\n",
        "\n",
        "print(\"Number of duplicates in Titles Dataset:\" , titles_data.duplicated().sum())"
      ],
      "metadata": {
        "id": "1sLdpKYkmox0"
      },
      "execution_count": null,
      "outputs": []
    },
    {
      "cell_type": "code",
      "source": [
        "# Credits Dataset Duplicate Value Count\n",
        "\n",
        "print(\"Number of duplicates in Credits Dataset:\" , credits_data.duplicated().sum())"
      ],
      "metadata": {
        "id": "oX8FPCCEAJFF"
      },
      "execution_count": null,
      "outputs": []
    },
    {
      "cell_type": "markdown",
      "source": [
        "#### Missing Values/Null Values"
      ],
      "metadata": {
        "id": "PoPl-ycgm1ru"
      }
    },
    {
      "cell_type": "code",
      "source": [
        "# Titles Dataset Missing Values/Null Values Count\n",
        "\n",
        "missing_vales_titles = pd.DataFrame({\n",
        "    \"missing_values\" : titles_data.isnull().sum(),\n",
        "    \"missing_values_percentage (%)\" : titles_data.isnull().mean()*100}).sort_values(\"missing_values\", ascending = False)\n",
        "\n",
        "print(missing_vales_titles)"
      ],
      "metadata": {
        "id": "GgHWkxvamxVg"
      },
      "execution_count": null,
      "outputs": []
    },
    {
      "cell_type": "code",
      "source": [
        "# Titles Dataset Missing Values/Null Values Count\n",
        "\n",
        "missing_values_credits = pd.DataFrame({\n",
        "    \"missing_values\": credits_data.isnull().sum(),\n",
        "    \"missing_values_percentage (%)\": credits_data.isnull().mean() * 100}).sort_values(\"missing_values\", ascending=False)\n",
        "\n",
        "print(missing_values_credits)"
      ],
      "metadata": {
        "id": "KlbLnE5TBnWl"
      },
      "execution_count": null,
      "outputs": []
    },
    {
      "cell_type": "code",
      "source": [
        "# Visualizing the missing values in titles dataset\n",
        "\n",
        "plt.figure(figsize=(10, 6))\n",
        "sns.heatmap(titles_data.isnull(), cbar=False, cmap='viridis')\n",
        "plt.title('Missing Values Heatmap')\n",
        "plt.show()\n"
      ],
      "metadata": {
        "id": "3q5wnI3om9sJ",
        "collapsed": true
      },
      "execution_count": null,
      "outputs": []
    },
    {
      "cell_type": "code",
      "source": [
        "# Visualizing the missing values in credits dataset\n",
        "\n",
        "plt.figure(figsize=(10, 6))\n",
        "sns.heatmap(credits_data.isnull(), cbar=False, cmap='viridis')\n",
        "plt.title('Missing Values Heatmap')\n",
        "plt.show()"
      ],
      "metadata": {
        "id": "TRNqjvMaDCRD",
        "collapsed": true
      },
      "execution_count": null,
      "outputs": []
    },
    {
      "cell_type": "markdown",
      "source": [
        "### What did you know about your dataset?"
      ],
      "metadata": {
        "id": "H0kj-8xxnORC"
      }
    },
    {
      "cell_type": "markdown",
      "source": [
        "The dataset was a merged file combining Amazon Prime content titlesdata and cast information. It included 125000+ records and had 19 columns\n",
        "\n",
        "**Titles Data:**\n",
        "\n",
        "* No missing values in key fields like title or release_year.\n",
        "\n",
        "* Some descriptions (~0.2%) were empty, but these didn’t affect core analyses.\n",
        "\n",
        "* Genre and country fields are complete, though stored as string-encoded lists.\n",
        "\n",
        "**Credits Data:**\n",
        "\n",
        "* About 1,000 titles lacked any cast or crew entries (person_id, name, role null).\n",
        "\n",
        "* No duplicates once we deduplicated on (id, person_id, character, role).\n",
        "\n",
        "**Merged Dataset:**\n",
        "\n",
        "* 125000 rows combining title metadata with credits.\n",
        "\n",
        "* A small fraction of shows had missing character names (~17,000), often for non-acting roles.\n",
        "\n",
        "**Numeric columns used in analysis:**\n",
        "\n",
        "* release_year, runtime, seasons\n",
        "\n",
        "* imdb_score, imdb_votes\n",
        "\n",
        "* tmdb_score, tmdb_popularity"
      ],
      "metadata": {
        "id": "gfoNAAC-nUe_"
      }
    },
    {
      "cell_type": "markdown",
      "source": [
        "## ***2. Understanding Your Variables***"
      ],
      "metadata": {
        "id": "nA9Y7ga8ng1Z"
      }
    },
    {
      "cell_type": "code",
      "source": [
        "# Titles Dataset Columns\n",
        "\n",
        "titles_data.columns.tolist()"
      ],
      "metadata": {
        "id": "j7xfkqrt5Ag5"
      },
      "execution_count": null,
      "outputs": []
    },
    {
      "cell_type": "code",
      "source": [
        "# Credits Dataset Columns\n",
        "\n",
        "credits_data.columns.tolist()"
      ],
      "metadata": {
        "id": "xiNgOsYxDV5b"
      },
      "execution_count": null,
      "outputs": []
    },
    {
      "cell_type": "code",
      "source": [
        "# Titles Dataset Describe\n",
        "\n",
        "titles_data.describe()"
      ],
      "metadata": {
        "id": "DnOaZdaE5Q5t"
      },
      "execution_count": null,
      "outputs": []
    },
    {
      "cell_type": "code",
      "source": [
        "# Credits Dataset Describe\n",
        "\n",
        "credits_data.describe()"
      ],
      "metadata": {
        "id": "cn5g5tcyDszY"
      },
      "execution_count": null,
      "outputs": []
    },
    {
      "cell_type": "markdown",
      "source": [
        "### Variables Description"
      ],
      "metadata": {
        "id": "PBTbrJXOngz2"
      }
    },
    {
      "cell_type": "markdown",
      "source": [
        "* id: Unique identifier for each title.\n",
        "\n",
        "* title: Name of the movie or TV show.\n",
        "\n",
        "* type: “MOVIE” or “SHOW.”\n",
        "\n",
        "* description: Text synopsis of the title.\n",
        "\n",
        "* release_year: Year the title first released.\n",
        "\n",
        "* age_certification: Content rating (e.g., “PG-13,” “TV-MA”).\n",
        "\n",
        "* runtime: For movies, length in minutes.\n",
        "\n",
        "* seasons: For shows, number of seasons.\n",
        "\n",
        "* genres: List of genres/categories (e.g., ['drama','action']).\n",
        "\n",
        "* production_countries: List of producing countries.\n",
        "\n",
        "* imdb_id: IMDb’s unique title code.\n",
        "\n",
        "* imdb_score: Average user rating on IMDb (1–10 scale).\n",
        "\n",
        "* imdb_votes: Number of user votes on IMDb.\n",
        "\n",
        "* tmdb_score: Average user rating on TMDB (1–10 scale).\n",
        "\n",
        "* tmdb_popularity: TMDB’s popularity metric.\n",
        "\n",
        "* person_id, name, character, role: Cast/crew details."
      ],
      "metadata": {
        "id": "aJV4KIxSnxay"
      }
    },
    {
      "cell_type": "markdown",
      "source": [
        "### Check Unique Values for each variable."
      ],
      "metadata": {
        "id": "u3PMJOP6ngxN"
      }
    },
    {
      "cell_type": "code",
      "source": [
        "# Check Unique Values for each variable in Titles Dataset.\n",
        "\n",
        "print(\"Unique values in Titles Dataset:\")\n",
        "print(titles_data.nunique())\n"
      ],
      "metadata": {
        "id": "zms12Yq5n-jE"
      },
      "execution_count": null,
      "outputs": []
    },
    {
      "cell_type": "code",
      "source": [
        "# Check Unique Values for each variable in Credits Dataset.\n",
        "\n",
        "print(\"Unique values in Credits Dataset:\")\n",
        "print(credits_data.nunique())"
      ],
      "metadata": {
        "id": "6g8r3FyRERuW"
      },
      "execution_count": null,
      "outputs": []
    },
    {
      "cell_type": "markdown",
      "source": [
        "## 3. ***Data Wrangling***"
      ],
      "metadata": {
        "id": "dauF4eBmngu3"
      }
    },
    {
      "cell_type": "markdown",
      "source": [
        "### Data Wrangling Code"
      ],
      "metadata": {
        "id": "bKJF3rekwFvQ"
      }
    },
    {
      "cell_type": "code",
      "source": [
        "# Create copy of the dataset\n",
        "\n",
        "titles_data_copy = titles_data.copy()\n",
        "credits_data_copy = credits_data.copy()"
      ],
      "metadata": {
        "id": "wk-9a2fpoLcV"
      },
      "execution_count": null,
      "outputs": []
    },
    {
      "cell_type": "code",
      "source": [
        "# merging two Datasets\n",
        "\n",
        "merged_data = pd.merge(titles_data_copy, credits_data_copy, on='id', how='left')\n",
        "merged_data.head()"
      ],
      "metadata": {
        "id": "FuCGkqyPFIFj"
      },
      "execution_count": null,
      "outputs": []
    },
    {
      "cell_type": "code",
      "source": [
        "merged_data.duplicated().sum()\n"
      ],
      "metadata": {
        "id": "x3mFMTw9aFQ-"
      },
      "execution_count": null,
      "outputs": []
    },
    {
      "cell_type": "code",
      "source": [
        "# Only drop exact same role-person-title rows, not valid unique roles\n",
        "merged_data.drop_duplicates(subset=['id', 'person_id', 'character', 'role'], inplace=True)\n"
      ],
      "metadata": {
        "id": "SIXstFMzet7Z"
      },
      "execution_count": null,
      "outputs": []
    },
    {
      "cell_type": "code",
      "source": [
        "merged_data.duplicated().sum()"
      ],
      "metadata": {
        "id": "Gx4C7v5Zeznn"
      },
      "execution_count": null,
      "outputs": []
    },
    {
      "cell_type": "code",
      "source": [
        "# Handling missing values\n",
        "\n",
        "merged_data['age_certification'] = merged_data['age_certification'].fillna(\"Not Rated\" )\n",
        "merged_data['description'] = merged_data['description'].fillna(\"No Description\")\n",
        "merged_data['tmdb_popularity'] = merged_data['tmdb_popularity'].fillna(merged_data['tmdb_popularity'].median())\n",
        "merged_data['seasons'] = merged_data.apply(\n",
        "    lambda x: 1 if x['type'] == 'MOVIE' and pd.isna(x['seasons']) else x['seasons'],\n",
        "    axis=1\n",
        ")\n",
        "\n",
        "merged_data.dropna(subset=['imdb_score', 'tmdb_score','imdb_votes'], inplace=True)"
      ],
      "metadata": {
        "id": "6rVODa_ls9AS"
      },
      "execution_count": null,
      "outputs": []
    },
    {
      "cell_type": "code",
      "source": [
        "# Cross checking missing values\n",
        "\n",
        "missing_values_merged_data = pd.DataFrame({\n",
        "    \"missing_values\": merged_data.isnull().sum(),\n",
        "    \"missing_values_percentage (%)\": merged_data.isnull().mean() * 100}).sort_values(\"missing_values\", ascending=False)\n",
        "\n",
        "print(missing_values_merged_data)"
      ],
      "metadata": {
        "id": "Cuv956TFz2iq"
      },
      "execution_count": null,
      "outputs": []
    },
    {
      "cell_type": "code",
      "source": [
        "# Data type conversions\n",
        "\n",
        "merged_data['seasons'] = merged_data['seasons'].astype('Int64')\n",
        "merged_data['person_id'] = merged_data['person_id'].astype('Int64')\n",
        "merged_data['imdb_votes'] = merged_data['imdb_votes'].astype('Int64')\n",
        "\n",
        "categorical_cols = ['type', 'age_certification', 'genres', 'production_countries', 'role']\n",
        "\n",
        "for col in categorical_cols:\n",
        "    merged_data[col] = merged_data[col].astype('category')\n"
      ],
      "metadata": {
        "id": "UblZFld_2-ua"
      },
      "execution_count": null,
      "outputs": []
    },
    {
      "cell_type": "code",
      "source": [
        "# Detectiong outliers\n",
        "\n",
        "# Numerical columns to check for outliers\n",
        "num_cols = ['runtime', 'imdb_score', 'imdb_votes', 'tmdb_score', 'tmdb_popularity']\n",
        "\n",
        "# Detecting outliers using IQR method\n",
        "def find_outliers(df, col):\n",
        "    Q1 = df[col].quantile(0.25)\n",
        "    Q3 = df[col].quantile(0.75)\n",
        "    IQR = Q3 - Q1\n",
        "    lower = Q1 - 1.5 * IQR\n",
        "    upper = Q3 + 1.5 * IQR\n",
        "    outliers = df[(df[col] < lower) | (df[col] > upper)]\n",
        "    return outliers\n",
        "\n",
        "# Count and display outlier stats\n",
        "for col in num_cols:\n",
        "    outliers = find_outliers(merged_data, col)\n",
        "    print(f\"{col}: {len(outliers)} outliers found\")\n"
      ],
      "metadata": {
        "id": "wRZpzLrx-EaK"
      },
      "execution_count": null,
      "outputs": []
    },
    {
      "cell_type": "code",
      "source": [
        "# How outliers were handled:\n",
        "\n",
        "# runtime, imdb_score, tmdb_score: Outliers were capped using the IQR method, which compresses extreme values into a reasonable range while keeping data distribution shape.\n",
        "\n",
        "# imdb_votes, tmdb_popularity: Log transformation was applied to reduce skewness from large values, improving interpretability for visualizations and modeling.\n",
        "\n",
        "\n",
        "# 1. Cap Outliers (Winsorize)\n",
        "def cap_outliers(df, col):\n",
        "    Q1 = df[col].quantile(0.25)\n",
        "    Q3 = df[col].quantile(0.75)\n",
        "    IQR = Q3 - Q1\n",
        "    lower = Q1 - 1.5 * IQR\n",
        "    upper = Q3 + 1.5 * IQR\n",
        "    df[col] = df[col].clip(lower, upper)\n",
        "\n",
        "for col in ['runtime', 'imdb_score', 'tmdb_score']:\n",
        "    cap_outliers(merged_data, col)\n",
        "\n",
        "# 2. Log Transform skewed metrics\n",
        "merged_data['imdb_votes_log'] = np.log1p(merged_data['imdb_votes'])\n",
        "merged_data['tmdb_popularity_log'] = np.log1p(merged_data['tmdb_popularity'])\n"
      ],
      "metadata": {
        "id": "sWLYdmWoAZ2S"
      },
      "execution_count": null,
      "outputs": []
    },
    {
      "cell_type": "code",
      "source": [
        "# Rows and Columns after merging\n",
        "\n",
        "print(\"Rows :\" , merged_data.shape[0])\n",
        "print(\"Columns :\" , merged_data.shape[1])"
      ],
      "metadata": {
        "id": "Cw4WWtEV6r9q"
      },
      "execution_count": null,
      "outputs": []
    },
    {
      "cell_type": "code",
      "source": [
        "merged_data.head()"
      ],
      "metadata": {
        "id": "aYRnSTWL7cwA"
      },
      "execution_count": null,
      "outputs": []
    },
    {
      "cell_type": "markdown",
      "source": [
        "### What all manipulations have you done and insights you found?"
      ],
      "metadata": {
        "id": "MSa1f5Uengrz"
      }
    },
    {
      "cell_type": "markdown",
      "source": [
        "Here are the major steps taken:\n",
        "\n",
        "#####**Duplicate Removal:**\n",
        "\n",
        "Dropped exact duplicate credits (same person/role on same title).\n",
        "\n",
        "Ensured one row per unique (id, person_id, character, role).\n",
        "\n",
        "#####**Missing-Value Handling:**\n",
        "\n",
        "Filled description nulls with “No Description.”\n",
        "\n",
        "Imputed age_certification nulls as “Not Rated.”\n",
        "\n",
        "For movies, set missing seasons to 1; left show-season data intact for analysis.\n",
        "\n",
        "Filled minor TMDB nulls with medians; dropped rows missing IMDb scores when doing rating-specific plots.\n",
        "\n",
        "#####**Type Conversions:**\n",
        "\n",
        "Converted seasons, imdb_votes, and person_id to integer types.\n",
        "\n",
        "Cast categorical fields (type, age_certification, genres, production_countries, role) to category for efficient grouping.\n",
        "\n",
        "#####**Outlier Treatment:**\n",
        "\n",
        "Used IQR capping on runtime, imdb_score, and tmdb_score to limit extremes.\n",
        "\n",
        "Log-transformed imdb_votes and tmdb_popularity and then capped to normalize skew."
      ],
      "metadata": {
        "id": "LbyXE7I1olp8"
      }
    },
    {
      "cell_type": "markdown",
      "source": [
        "## ***4. Data Vizualization, Storytelling & Experimenting with charts : Understand the relationships between variables***"
      ],
      "metadata": {
        "id": "GF8Ens_Soomf"
      }
    },
    {
      "cell_type": "markdown",
      "source": [
        "# **Univariate Vizualizations**"
      ],
      "metadata": {
        "id": "HhgBH05eKaxU"
      }
    },
    {
      "cell_type": "markdown",
      "source": [
        "#### Chart - 1"
      ],
      "metadata": {
        "id": "0wOQAZs5pc--"
      }
    },
    {
      "cell_type": "code",
      "source": [
        "# Genre Distribution (Top 10)\n",
        "\n",
        "plt.figure(figsize=(8,6))\n",
        "sns.countplot(y='genres',\n",
        "              data=merged_data,\n",
        "              order=merged_data['genres'].value_counts().iloc[:10].index)\n",
        "plt.title(\"Top 10 Genres by Count\")\n",
        "plt.xlabel(\"Number of Titles\")\n",
        "plt.ylabel(\"Genre\")\n",
        "plt.show()\n"
      ],
      "metadata": {
        "id": "7v_ESjsspbW7"
      },
      "execution_count": null,
      "outputs": []
    },
    {
      "cell_type": "markdown",
      "source": [
        "##### 1. Why did you pick the specific chart?"
      ],
      "metadata": {
        "id": "K5QZ13OEpz2H"
      }
    },
    {
      "cell_type": "markdown",
      "source": [
        "A horizontal bar chart (countplot) clearly shows which genres dominate by count, and ordering the top 10 makes it easy to read."
      ],
      "metadata": {
        "id": "XESiWehPqBRc"
      }
    },
    {
      "cell_type": "markdown",
      "source": [
        "##### 2. What is/are the insight(s) found from the chart?"
      ],
      "metadata": {
        "id": "lQ7QKXXCp7Bj"
      }
    },
    {
      "cell_type": "markdown",
      "source": [
        "**Insight:** We can see the most common genres like drama and comedy dominate Amazon Prime’s library."
      ],
      "metadata": {
        "id": "C_j1G7yiqdRP"
      }
    },
    {
      "cell_type": "markdown",
      "source": [
        "##### 3. Will the gained insights help creating a positive business impact?\n",
        "Are there any insights that lead to negative growth? Justify with specific reason."
      ],
      "metadata": {
        "id": "448CDAPjqfQr"
      }
    },
    {
      "cell_type": "markdown",
      "source": [
        "**Impact:** Yes - knowing which genres have the largest libraries helps content acquisition teams prioritize similar content, if a high-demand genre is underrepresented, that’s a growth opportunity."
      ],
      "metadata": {
        "id": "3cspy4FjqxJW"
      }
    },
    {
      "cell_type": "markdown",
      "source": [
        "#### Chart - 2"
      ],
      "metadata": {
        "id": "KSlN3yHqYklG"
      }
    },
    {
      "cell_type": "code",
      "source": [
        "# Content Type Breakdown pie chart\n",
        "\n",
        "merged_data['type'].value_counts().plot(kind='pie', autopct='%1.1f%%', figsize=(6, 6))\n",
        "plt.title(\"Content Type Breakdown\")\n",
        "plt.ylabel(\"\")\n",
        "plt.show()\n",
        "\n"
      ],
      "metadata": {
        "id": "R4YgtaqtYklH"
      },
      "execution_count": null,
      "outputs": []
    },
    {
      "cell_type": "markdown",
      "source": [
        "##### 1. Why did you pick the specific chart?"
      ],
      "metadata": {
        "id": "t6dVpIINYklI"
      }
    },
    {
      "cell_type": "markdown",
      "source": [
        "A pie chart communicates breakdown of two categories (“MOVIE” vs “SHOW”) at a glance."
      ],
      "metadata": {
        "id": "5aaW0BYyYklI"
      }
    },
    {
      "cell_type": "markdown",
      "source": [
        "##### 2. What is/are the insight(s) found from the chart?"
      ],
      "metadata": {
        "id": "ijmpgYnKYklI"
      }
    },
    {
      "cell_type": "markdown",
      "source": [
        "**Insight:** We can see the platform mix (6% shows, 94% movies)."
      ],
      "metadata": {
        "id": "PSx9atu2YklI"
      }
    },
    {
      "cell_type": "markdown",
      "source": [
        "##### 3. Will the gained insights help creating a positive business impact?\n",
        "Are there any insights that lead to negative growth? Justify with specific reason."
      ],
      "metadata": {
        "id": "-JiQyfWJYklI"
      }
    },
    {
      "cell_type": "markdown",
      "source": [
        "**Impact:** Understanding the balance informs marketing and acquisition: if movies dominate, investing in exclusive shows might differentiate the service."
      ],
      "metadata": {
        "id": "BcBbebzrYklV"
      }
    },
    {
      "cell_type": "markdown",
      "source": [
        "#### Chart - 3"
      ],
      "metadata": {
        "id": "EM7whBJCYoAo"
      }
    },
    {
      "cell_type": "code",
      "source": [
        "# Content Release Over Years line plot\n",
        "\n",
        "merged_data['release_year'].value_counts().sort_index().plot(kind='line',  marker='o',figsize=(10, 6))\n",
        "plt.title(\"Releases Over Years\")\n",
        "plt.xlabel(\"Release Year\")\n",
        "plt.ylabel(\"Number of releases\")\n",
        "plt.show()\n",
        "\n"
      ],
      "metadata": {
        "id": "t6GMdE67YoAp"
      },
      "execution_count": null,
      "outputs": []
    },
    {
      "cell_type": "markdown",
      "source": [
        "##### 1. Why did you pick the specific chart?"
      ],
      "metadata": {
        "id": "fge-S5ZAYoAp"
      }
    },
    {
      "cell_type": "markdown",
      "source": [
        "A line plot highlights trends over time."
      ],
      "metadata": {
        "id": "5dBItgRVYoAp"
      }
    },
    {
      "cell_type": "markdown",
      "source": [
        "##### 2. What is/are the insight(s) found from the chart?"
      ],
      "metadata": {
        "id": "85gYPyotYoAp"
      }
    },
    {
      "cell_type": "markdown",
      "source": [
        "**Insight:** Significant increase in content production in the last two decades."
      ],
      "metadata": {
        "id": "4jstXR6OYoAp"
      }
    },
    {
      "cell_type": "markdown",
      "source": [
        "##### 3. Will the gained insights help creating a positive business impact?\n",
        "Are there any insights that lead to negative growth? Justify with specific reason."
      ],
      "metadata": {
        "id": "RoGjAbkUYoAp"
      }
    },
    {
      "cell_type": "markdown",
      "source": [
        "**Impact:** Yes - understanding content volume growth helps forecast future library needs and strategies."
      ],
      "metadata": {
        "id": "zfJ8IqMcYoAp"
      }
    },
    {
      "cell_type": "markdown",
      "source": [
        "#### Chart - 4"
      ],
      "metadata": {
        "id": "4Of9eVA-YrdM"
      }
    },
    {
      "cell_type": "code",
      "source": [
        "# IMDb Score Distribution\n",
        "\n",
        "plt.figure(figsize=(8, 6))\n",
        "sns.histplot(merged_data['imdb_score'], bins=20, kde=True)\n",
        "plt.title(\"IMDb Score Distribution\")\n",
        "plt.xlabel(\"IMDb Score\")\n",
        "plt.ylabel(\"Frequency\")\n"
      ],
      "metadata": {
        "id": "irlUoxc8YrdO"
      },
      "execution_count": null,
      "outputs": []
    },
    {
      "cell_type": "markdown",
      "source": [
        "##### 1. Why did you pick the specific chart?"
      ],
      "metadata": {
        "id": "iky9q4vBYrdO"
      }
    },
    {
      "cell_type": "markdown",
      "source": [
        "A histogram with KDE shows central tendency, skewness, and spread of ratings."
      ],
      "metadata": {
        "id": "aJRCwT6DYrdO"
      }
    },
    {
      "cell_type": "markdown",
      "source": [
        "##### 2. What is/are the insight(s) found from the chart?"
      ],
      "metadata": {
        "id": "F6T5p64dYrdO"
      }
    },
    {
      "cell_type": "markdown",
      "source": [
        "**Insight:** We might see a peak around 6–7 score, with few extremely low or high scores."
      ],
      "metadata": {
        "id": "Xx8WAJvtYrdO"
      }
    },
    {
      "cell_type": "markdown",
      "source": [
        "##### 3. Will the gained insights help creating a positive business impact?\n",
        "Are there any insights that lead to negative growth? Justify with specific reason."
      ],
      "metadata": {
        "id": "y-Ehk30pYrdP"
      }
    },
    {
      "cell_type": "markdown",
      "source": [
        "**Impact:** Understanding rating distribution helps set quality benchmarks for future content investments."
      ],
      "metadata": {
        "id": "jLNxxz7MYrdP"
      }
    },
    {
      "cell_type": "markdown",
      "source": [
        "#### Chart - 5"
      ],
      "metadata": {
        "id": "bamQiAODYuh1"
      }
    },
    {
      "cell_type": "code",
      "source": [
        "# Runtime distribution\n",
        "\n",
        "plt.figure(figsize=(10, 6))\n",
        "sns.histplot(merged_data['runtime'], bins=50, kde=True, color='orange')\n",
        "plt.title('Runtime Distribution')\n",
        "plt.xlabel('Runtime (minutes)')\n",
        "plt.ylabel('Count')\n",
        "plt.show()\n"
      ],
      "metadata": {
        "id": "TIJwrbroYuh3"
      },
      "execution_count": null,
      "outputs": []
    },
    {
      "cell_type": "markdown",
      "source": [
        "##### 1. Why did you pick the specific chart?"
      ],
      "metadata": {
        "id": "QHF8YVU7Yuh3"
      }
    },
    {
      "cell_type": "markdown",
      "source": [
        "To observe general content length preferences."
      ],
      "metadata": {
        "id": "dcxuIMRPYuh3"
      }
    },
    {
      "cell_type": "markdown",
      "source": [
        "##### 2. What is/are the insight(s) found from the chart?"
      ],
      "metadata": {
        "id": "GwzvFGzlYuh3"
      }
    },
    {
      "cell_type": "markdown",
      "source": [
        "**Insight:** Most content is between 60 to 120 minutes."
      ],
      "metadata": {
        "id": "uyqkiB8YYuh3"
      }
    },
    {
      "cell_type": "markdown",
      "source": [
        "##### 3. Will the gained insights help creating a positive business impact?\n",
        "Are there any insights that lead to negative growth? Justify with specific reason."
      ],
      "metadata": {
        "id": "qYpmQ266Yuh3"
      }
    },
    {
      "cell_type": "markdown",
      "source": [
        "**Impact:** Yes - optimize production for runtime sweet spots based on viewer retention."
      ],
      "metadata": {
        "id": "_WtzZ_hCYuh4"
      }
    },
    {
      "cell_type": "markdown",
      "source": [
        " # **Bivariate Vizualizations**"
      ],
      "metadata": {
        "id": "NYSGVM1cUnGi"
      }
    },
    {
      "cell_type": "markdown",
      "source": [
        "#### Chart - 6"
      ],
      "metadata": {
        "id": "OH-pJp9IphqM"
      }
    },
    {
      "cell_type": "code",
      "source": [
        "# Average IMDb score by content type\n",
        "\n",
        "plt.figure(figsize=(8, 6))\n",
        "sns.boxplot(data=merged_data, x='type', y='imdb_score' ,palette='pastel')\n",
        "plt.title('IMDb Score Distribution by Content Type')\n",
        "plt.xlabel('Type')\n",
        "plt.ylabel('IMDb Score')\n",
        "plt.show()"
      ],
      "metadata": {
        "id": "kuRf4wtuphqN"
      },
      "execution_count": null,
      "outputs": []
    },
    {
      "cell_type": "markdown",
      "source": [
        "##### 1. Why did you pick the specific chart?"
      ],
      "metadata": {
        "id": "bbFf2-_FphqN"
      }
    },
    {
      "cell_type": "markdown",
      "source": [
        "Boxplots are great for comparing distributions across categories."
      ],
      "metadata": {
        "id": "loh7H2nzphqN"
      }
    },
    {
      "cell_type": "markdown",
      "source": [
        "##### 2. What is/are the insight(s) found from the chart?"
      ],
      "metadata": {
        "id": "_ouA3fa0phqN"
      }
    },
    {
      "cell_type": "markdown",
      "source": [
        "**Insight:** Movies generally have lower IMDb score variability than shows. The majority of movies have score between 5.5 and 6.7 and for shows the score is between 6.8 to 7.5"
      ],
      "metadata": {
        "id": "VECbqPI7phqN"
      }
    },
    {
      "cell_type": "markdown",
      "source": [
        "##### 3. Will the gained insights help creating a positive business impact?\n",
        "Are there any insights that lead to negative growth? Justify with specific reason."
      ],
      "metadata": {
        "id": "Seke61FWphqN"
      }
    },
    {
      "cell_type": "markdown",
      "source": [
        "**Impact:** Yes - teams can prioritize high-scoring content formats and set benchmarks for content development."
      ],
      "metadata": {
        "id": "DW4_bGpfphqN"
      }
    },
    {
      "cell_type": "markdown",
      "source": [
        "#### Chart - 7"
      ],
      "metadata": {
        "id": "PIIx-8_IphqN"
      }
    },
    {
      "cell_type": "code",
      "source": [
        "# Titles per Production Country (Top 10)\n",
        "\n",
        "plt.figure(figsize=(10, 6))\n",
        "sns.countplot(y='production_countries', data=merged_data, order=merged_data['production_countries'].value_counts().iloc[:10].index)\n",
        "plt.title(\"Top 10 Production Countries by Number of Titles\")\n",
        "plt.xlabel(\"Number of Titles\")\n",
        "plt.ylabel(\"Country\")\n",
        "plt.show()\n"
      ],
      "metadata": {
        "id": "lqAIGUfyphqO"
      },
      "execution_count": null,
      "outputs": []
    },
    {
      "cell_type": "markdown",
      "source": [
        "##### 1. Why did you pick the specific chart?"
      ],
      "metadata": {
        "id": "t27r6nlMphqO"
      }
    },
    {
      "cell_type": "markdown",
      "source": [
        "A horizontal bar chart (count plot) makes it easy to see which regions contribute most content"
      ],
      "metadata": {
        "id": "iv6ro40sphqO"
      }
    },
    {
      "cell_type": "markdown",
      "source": [
        "##### 2. What is/are the insight(s) found from the chart?"
      ],
      "metadata": {
        "id": "r2jJGEOYphqO"
      }
    },
    {
      "cell_type": "markdown",
      "source": [
        "**Insight:** Dominant production hubs (e.g., US, India , GB)."
      ],
      "metadata": {
        "id": "Po6ZPi4hphqO"
      }
    },
    {
      "cell_type": "markdown",
      "source": [
        "##### 3. Will the gained insights help creating a positive business impact?\n",
        "Are there any insights that lead to negative growth? Justify with specific reason."
      ],
      "metadata": {
        "id": "b0JNsNcRphqO"
      }
    },
    {
      "cell_type": "markdown",
      "source": [
        "**Insight:** Spot underrepresented regions for localization or co-production deals to expand global catalog."
      ],
      "metadata": {
        "id": "xvSq8iUTphqO"
      }
    },
    {
      "cell_type": "markdown",
      "source": [
        "#### Chart - 8"
      ],
      "metadata": {
        "id": "BZR9WyysphqO"
      }
    },
    {
      "cell_type": "code",
      "source": [
        "# IMDb Score by Genre (Top 5 Genres)\n",
        "\n",
        "plt.figure(figsize=(10, 6))\n",
        "sns.boxplot(data=merged_data, x='genres', y='imdb_score', order=merged_data['genres'].value_counts().iloc[:5].index)\n",
        "plt.title(\"IMDb Score Distribution by Genre\")\n",
        "plt.xlabel(\"Genre\")\n",
        "plt.ylabel(\"IMDb Score\")\n",
        "plt.xticks(rotation=45)\n",
        "plt.show()"
      ],
      "metadata": {
        "id": "TdPTWpAVphqO"
      },
      "execution_count": null,
      "outputs": []
    },
    {
      "cell_type": "markdown",
      "source": [
        "##### 1. Why did you pick the specific chart?"
      ],
      "metadata": {
        "id": "jj7wYXLtphqO"
      }
    },
    {
      "cell_type": "markdown",
      "source": [
        "Boxplots compare score distributions across categories, highlighting genre quality differences."
      ],
      "metadata": {
        "id": "Ob8u6rCTphqO"
      }
    },
    {
      "cell_type": "markdown",
      "source": [
        "##### 2. What is/are the insight(s) found from the chart?"
      ],
      "metadata": {
        "id": "eZrbJ2SmphqO"
      }
    },
    {
      "cell_type": "markdown",
      "source": [
        "**Insight:**\n",
        "\n",
        "* Drama and Drama-Comedy genres tend to have higher median IMDb scores.\n",
        "\n",
        "* Horror has a lower median score, and its ratings vary more, with several low-scoring outliers.\n",
        "\n",
        "* Drama-Romance shows a tight distribution (box is small), meaning the scores are closely packed — more consistent.\n",
        "\n",
        "* Comedy has a wider range with some very low IMDb scores as outliers."
      ],
      "metadata": {
        "id": "mZtgC_hjphqO"
      }
    },
    {
      "cell_type": "markdown",
      "source": [
        "##### 3. Will the gained insights help creating a positive business impact?\n",
        "Are there any insights that lead to negative growth? Justify with specific reason."
      ],
      "metadata": {
        "id": "rFu4xreNphqO"
      }
    },
    {
      "cell_type": "markdown",
      "source": [
        "**Impact:** Identify high-quality but underrepresented genres for new acquisitions to boost overall platform rating."
      ],
      "metadata": {
        "id": "ey_0qi68phqO"
      }
    },
    {
      "cell_type": "markdown",
      "source": [
        "# **Multivariate Vizualizations**"
      ],
      "metadata": {
        "id": "TmHb-sgNnBTW"
      }
    },
    {
      "cell_type": "markdown",
      "source": [
        "#### Chart - 9"
      ],
      "metadata": {
        "id": "YJ55k-q6phqO"
      }
    },
    {
      "cell_type": "code",
      "source": [
        "# IMDb score vs tmdb_score vs popularity\n",
        "\n",
        "plt.figure(figsize=(10, 8))\n",
        "corr = merged_data[['imdb_score', 'tmdb_score', 'tmdb_popularity']].corr()\n",
        "sns.heatmap(corr, annot=True, cmap='Blues')\n",
        "plt.title('Correlation Matrix')\n",
        "plt.show()\n",
        "\n"
      ],
      "metadata": {
        "id": "B2aS4O1ophqO"
      },
      "execution_count": null,
      "outputs": []
    },
    {
      "cell_type": "markdown",
      "source": [
        "##### 1. Why did you pick the specific chart?"
      ],
      "metadata": {
        "id": "gCFgpxoyphqP"
      }
    },
    {
      "cell_type": "markdown",
      "source": [
        "A heatmap clearly shows correlations among numeric metrics."
      ],
      "metadata": {
        "id": "TVxDimi2phqP"
      }
    },
    {
      "cell_type": "markdown",
      "source": [
        "##### 2. What is/are the insight(s) found from the chart?"
      ],
      "metadata": {
        "id": "OVtJsKN_phqQ"
      }
    },
    {
      "cell_type": "markdown",
      "source": [
        "**Insight:** IMDb and TMDb scores are positively correlated; popularity doesn't align strongly with scores."
      ],
      "metadata": {
        "id": "ngGi97qjphqQ"
      }
    },
    {
      "cell_type": "markdown",
      "source": [
        "##### 3. Will the gained insights help creating a positive business impact?\n",
        "Are there any insights that lead to negative growth? Justify with specific reason."
      ],
      "metadata": {
        "id": "lssrdh5qphqQ"
      }
    },
    {
      "cell_type": "markdown",
      "source": [
        "**Impact:** Yes — platforms can’t rely only on ratings for predicting popularity. Marketing efforts and timing matter."
      ],
      "metadata": {
        "id": "tBpY5ekJphqQ"
      }
    },
    {
      "cell_type": "markdown",
      "source": [
        "#### Chart - 10"
      ],
      "metadata": {
        "id": "U2RJ9gkRphqQ"
      }
    },
    {
      "cell_type": "code",
      "source": [
        "# Faceted Scatter – IMDb Score vs Runtime by Content Type\n",
        "\n",
        "g = sns.FacetGrid(merged_data, col=\"type\", height=5, aspect=1)\n",
        "g.map_dataframe(sns.scatterplot, x='runtime', y='imdb_score', alpha=0.6)\n",
        "g.set_axis_labels(\"Runtime (min)\", \"IMDb Score\")\n",
        "g.add_legend()\n",
        "g.fig.suptitle(\"IMDb Score vs Runtime, Faceted by Movie/Show\", y=1.02)\n",
        "plt.show()"
      ],
      "metadata": {
        "id": "GM7a4YP4phqQ"
      },
      "execution_count": null,
      "outputs": []
    },
    {
      "cell_type": "markdown",
      "source": [
        "##### 1. Why did you pick the specific chart?"
      ],
      "metadata": {
        "id": "1M8mcRywphqQ"
      }
    },
    {
      "cell_type": "markdown",
      "source": [
        "Faceting splits the plot by type, making it easy to compare how movies vs shows behave across two numeric variables."
      ],
      "metadata": {
        "id": "8agQvks0phqQ"
      }
    },
    {
      "cell_type": "markdown",
      "source": [
        "##### 2. What is/are the insight(s) found from the chart?"
      ],
      "metadata": {
        "id": "tgIPom80phqQ"
      }
    },
    {
      "cell_type": "markdown",
      "source": [
        "**Insight:**\n",
        "\n",
        "* Shows cluster at shorter runtimes with moderate-to-high scores.\n",
        "\n",
        "* Movies are more spread out in runtime, with wide score variance."
      ],
      "metadata": {
        "id": "Qp13pnNzphqQ"
      }
    },
    {
      "cell_type": "markdown",
      "source": [
        "##### 3. Will the gained insights help creating a positive business impact?\n",
        "Are there any insights that lead to negative growth? Justify with specific reason."
      ],
      "metadata": {
        "id": "JMzcOPDDphqR"
      }
    },
    {
      "cell_type": "markdown",
      "source": [
        "**Insight:** Yes—facets reveal that optimizing length differs by content type; e.g., aiming for 40–60 min shows might maximize quality metrics."
      ],
      "metadata": {
        "id": "R4Ka1PC2phqR"
      }
    },
    {
      "cell_type": "markdown",
      "source": [
        "#### Chart - 11"
      ],
      "metadata": {
        "id": "x-EpHcCOp1ci"
      }
    },
    {
      "cell_type": "code",
      "source": [
        "# Line Plot – Average IMDb Score Over Years by Type\n",
        "avg_scores = merged_data.groupby(['release_year','type'])['imdb_score'].mean().reset_index()\n",
        "plt.figure(figsize=(12,6))\n",
        "sns.lineplot(data=avg_scores, x='release_year', y='imdb_score', hue='type', marker='o')\n",
        "plt.title(\"Average IMDb Score Over Time by Content Type\")\n",
        "plt.xlabel(\"Release Year\")\n",
        "plt.ylabel(\"Average IMDb Score\")\n",
        "plt.legend(title='Type')\n",
        "plt.show()\n"
      ],
      "metadata": {
        "id": "mAQTIvtqp1cj"
      },
      "execution_count": null,
      "outputs": []
    },
    {
      "cell_type": "markdown",
      "source": [
        "##### 1. Why did you pick the specific chart?"
      ],
      "metadata": {
        "id": "X_VqEhTip1ck"
      }
    },
    {
      "cell_type": "markdown",
      "source": [
        "A line plot shows trends over time, and coloring by type adds the multivariate layer."
      ],
      "metadata": {
        "id": "-vsMzt_np1ck"
      }
    },
    {
      "cell_type": "markdown",
      "source": [
        "##### 2. What is/are the insight(s) found from the chart?"
      ],
      "metadata": {
        "id": "8zGJKyg5p1ck"
      }
    },
    {
      "cell_type": "markdown",
      "source": [
        "**Insights:**\n",
        "\n",
        "* Shows’ average scores have steadily increased in recent years.\n",
        "\n",
        "* Movie scores are more volatile year-to-year."
      ],
      "metadata": {
        "id": "ZYdMsrqVp1ck"
      }
    },
    {
      "cell_type": "markdown",
      "source": [
        "##### 3. Will the gained insights help creating a positive business impact?\n",
        "Are there any insights that lead to negative growth? Justify with specific reason."
      ],
      "metadata": {
        "id": "PVzmfK_Ep1ck"
      }
    },
    {
      "cell_type": "markdown",
      "source": [
        "**Impact:** Yes - recognizing that series quality is trending upward can inform investment in originals; the volatility in movies suggests tighter quality controls are needed before release."
      ],
      "metadata": {
        "id": "druuKYZpp1ck"
      }
    },
    {
      "cell_type": "markdown",
      "source": [
        "## **5. Solution to Business Objective**"
      ],
      "metadata": {
        "id": "JcMwzZxoAimU"
      }
    },
    {
      "cell_type": "markdown",
      "source": [
        "#### What do you suggest the client to achieve Business Objective ?\n",
        "Explain Briefly."
      ],
      "metadata": {
        "id": "8G2x9gOozGDZ"
      }
    },
    {
      "cell_type": "markdown",
      "source": [
        "Answer Here."
      ],
      "metadata": {
        "id": "pASKb0qOza21"
      }
    },
    {
      "cell_type": "markdown",
      "source": [
        "# **Conclusion**"
      ],
      "metadata": {
        "id": "gCX9965dhzqZ"
      }
    },
    {
      "cell_type": "markdown",
      "source": [
        "This EDA project provided a deep understanding of Amazon Prime Video’s content strategy and audience preferences. Key insights reveal genre dominance, rising regional content, and viewer engagement trends. The findings can guide business stakeholders in optimizing content investments, improving audience targeting, and tailoring region-specific strategies. As streaming competition grows, these insights offer Amazon Prime a valuable edge in curating and recommending relevant content that maximizes both engagement and subscriptions."
      ],
      "metadata": {
        "id": "Fjb1IsQkh3yE"
      }
    },
    {
      "cell_type": "markdown",
      "source": [
        "### ***Hurrah! You have successfully completed your EDA Capstone Project !!!***"
      ],
      "metadata": {
        "id": "gIfDvo9L0UH2"
      }
    },
    {
      "cell_type": "code",
      "source": [],
      "metadata": {
        "id": "dYX880etpL0x"
      },
      "execution_count": null,
      "outputs": []
    },
    {
      "cell_type": "code",
      "source": [],
      "metadata": {
        "id": "-6Vl263upPVI"
      },
      "execution_count": null,
      "outputs": []
    }
  ]
}